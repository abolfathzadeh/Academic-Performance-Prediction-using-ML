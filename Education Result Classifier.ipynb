{
 "cells": [
  {
   "cell_type": "code",
   "execution_count": 1,
   "id": "60dda9ed",
   "metadata": {},
   "outputs": [],
   "source": [
    "import warnings\n",
    "warnings.filterwarnings('ignore')"
   ]
  },
  {
   "cell_type": "code",
   "execution_count": 2,
   "id": "6617ce9e",
   "metadata": {},
   "outputs": [
    {
     "data": {
      "text/html": [
       "<div>\n",
       "<style scoped>\n",
       "    .dataframe tbody tr th:only-of-type {\n",
       "        vertical-align: middle;\n",
       "    }\n",
       "\n",
       "    .dataframe tbody tr th {\n",
       "        vertical-align: top;\n",
       "    }\n",
       "\n",
       "    .dataframe thead th {\n",
       "        text-align: right;\n",
       "    }\n",
       "</style>\n",
       "<table border=\"1\" class=\"dataframe\">\n",
       "  <thead>\n",
       "    <tr style=\"text-align: right;\">\n",
       "      <th></th>\n",
       "      <th>school</th>\n",
       "      <th>sex</th>\n",
       "      <th>age</th>\n",
       "      <th>address</th>\n",
       "      <th>famsize</th>\n",
       "      <th>Pstatus</th>\n",
       "      <th>Medu</th>\n",
       "      <th>Fedu</th>\n",
       "      <th>Mjob</th>\n",
       "      <th>Fjob</th>\n",
       "      <th>...</th>\n",
       "      <th>goout</th>\n",
       "      <th>Dalc</th>\n",
       "      <th>Walc</th>\n",
       "      <th>health</th>\n",
       "      <th>absences</th>\n",
       "      <th>G1</th>\n",
       "      <th>G2</th>\n",
       "      <th>G3</th>\n",
       "      <th>AvgGrade</th>\n",
       "      <th>GradeClass</th>\n",
       "    </tr>\n",
       "  </thead>\n",
       "  <tbody>\n",
       "    <tr>\n",
       "      <th>0</th>\n",
       "      <td>GP</td>\n",
       "      <td>F</td>\n",
       "      <td>18</td>\n",
       "      <td>U</td>\n",
       "      <td>GT3</td>\n",
       "      <td>A</td>\n",
       "      <td>4</td>\n",
       "      <td>4</td>\n",
       "      <td>at_home</td>\n",
       "      <td>teacher</td>\n",
       "      <td>...</td>\n",
       "      <td>4</td>\n",
       "      <td>1</td>\n",
       "      <td>1</td>\n",
       "      <td>3</td>\n",
       "      <td>6</td>\n",
       "      <td>5</td>\n",
       "      <td>6</td>\n",
       "      <td>6</td>\n",
       "      <td>6</td>\n",
       "      <td>E</td>\n",
       "    </tr>\n",
       "    <tr>\n",
       "      <th>1</th>\n",
       "      <td>GP</td>\n",
       "      <td>F</td>\n",
       "      <td>17</td>\n",
       "      <td>U</td>\n",
       "      <td>GT3</td>\n",
       "      <td>T</td>\n",
       "      <td>1</td>\n",
       "      <td>1</td>\n",
       "      <td>at_home</td>\n",
       "      <td>other</td>\n",
       "      <td>...</td>\n",
       "      <td>3</td>\n",
       "      <td>1</td>\n",
       "      <td>1</td>\n",
       "      <td>3</td>\n",
       "      <td>4</td>\n",
       "      <td>5</td>\n",
       "      <td>5</td>\n",
       "      <td>6</td>\n",
       "      <td>5</td>\n",
       "      <td>F</td>\n",
       "    </tr>\n",
       "    <tr>\n",
       "      <th>2</th>\n",
       "      <td>GP</td>\n",
       "      <td>F</td>\n",
       "      <td>15</td>\n",
       "      <td>U</td>\n",
       "      <td>LE3</td>\n",
       "      <td>T</td>\n",
       "      <td>1</td>\n",
       "      <td>1</td>\n",
       "      <td>at_home</td>\n",
       "      <td>other</td>\n",
       "      <td>...</td>\n",
       "      <td>2</td>\n",
       "      <td>2</td>\n",
       "      <td>3</td>\n",
       "      <td>3</td>\n",
       "      <td>10</td>\n",
       "      <td>7</td>\n",
       "      <td>8</td>\n",
       "      <td>10</td>\n",
       "      <td>8</td>\n",
       "      <td>E</td>\n",
       "    </tr>\n",
       "    <tr>\n",
       "      <th>3</th>\n",
       "      <td>GP</td>\n",
       "      <td>F</td>\n",
       "      <td>15</td>\n",
       "      <td>U</td>\n",
       "      <td>GT3</td>\n",
       "      <td>T</td>\n",
       "      <td>4</td>\n",
       "      <td>2</td>\n",
       "      <td>health</td>\n",
       "      <td>services</td>\n",
       "      <td>...</td>\n",
       "      <td>2</td>\n",
       "      <td>1</td>\n",
       "      <td>1</td>\n",
       "      <td>5</td>\n",
       "      <td>2</td>\n",
       "      <td>15</td>\n",
       "      <td>14</td>\n",
       "      <td>15</td>\n",
       "      <td>15</td>\n",
       "      <td>B</td>\n",
       "    </tr>\n",
       "    <tr>\n",
       "      <th>4</th>\n",
       "      <td>GP</td>\n",
       "      <td>F</td>\n",
       "      <td>16</td>\n",
       "      <td>U</td>\n",
       "      <td>GT3</td>\n",
       "      <td>T</td>\n",
       "      <td>3</td>\n",
       "      <td>3</td>\n",
       "      <td>other</td>\n",
       "      <td>other</td>\n",
       "      <td>...</td>\n",
       "      <td>2</td>\n",
       "      <td>1</td>\n",
       "      <td>2</td>\n",
       "      <td>5</td>\n",
       "      <td>4</td>\n",
       "      <td>6</td>\n",
       "      <td>10</td>\n",
       "      <td>10</td>\n",
       "      <td>9</td>\n",
       "      <td>E</td>\n",
       "    </tr>\n",
       "  </tbody>\n",
       "</table>\n",
       "<p>5 rows × 35 columns</p>\n",
       "</div>"
      ],
      "text/plain": [
       "  school sex  age address famsize Pstatus  Medu  Fedu     Mjob      Fjob  ...  \\\n",
       "0     GP   F   18       U     GT3       A     4     4  at_home   teacher  ...   \n",
       "1     GP   F   17       U     GT3       T     1     1  at_home     other  ...   \n",
       "2     GP   F   15       U     LE3       T     1     1  at_home     other  ...   \n",
       "3     GP   F   15       U     GT3       T     4     2   health  services  ...   \n",
       "4     GP   F   16       U     GT3       T     3     3    other     other  ...   \n",
       "\n",
       "  goout Dalc  Walc  health  absences  G1  G2  G3 AvgGrade GradeClass  \n",
       "0     4    1     1       3         6   5   6   6        6          E  \n",
       "1     3    1     1       3         4   5   5   6        5          F  \n",
       "2     2    2     3       3        10   7   8  10        8          E  \n",
       "3     2    1     1       5         2  15  14  15       15          B  \n",
       "4     2    1     2       5         4   6  10  10        9          E  \n",
       "\n",
       "[5 rows x 35 columns]"
      ]
     },
     "execution_count": 2,
     "metadata": {},
     "output_type": "execute_result"
    }
   ],
   "source": [
    "import numpy as np\n",
    "import pandas as pd\n",
    "\n",
    "# Load data\n",
    "data=pd.read_csv(r'C:\\Uni_doc\\IEEE\\Author\\Patch0-20230124\\education\\student_data.csv')\n",
    "\n",
    "data.head()"
   ]
  },
  {
   "cell_type": "code",
   "execution_count": 3,
   "id": "fd919952",
   "metadata": {},
   "outputs": [
    {
     "data": {
      "text/plain": [
       "(395, 35)"
      ]
     },
     "execution_count": 3,
     "metadata": {},
     "output_type": "execute_result"
    }
   ],
   "source": [
    "data.shape"
   ]
  },
  {
   "cell_type": "markdown",
   "id": "7e66436e",
   "metadata": {},
   "source": [
    "school','sex','age','address','famsize','Pstatus','Medu','Fedu','Mjob','Fjob','reason','guardian','traveltime','studytime','failures','schoolsup','famsup','paid','activities','nursery','higher','internet','romantic','famrel','freetime','goout','Dalc','Walc','health','absences\tG1\tG2\tG3\n"
   ]
  },
  {
   "cell_type": "code",
   "execution_count": 4,
   "id": "c490ee41",
   "metadata": {},
   "outputs": [],
   "source": [
    "df_selected=data.loc[:,[ 'sex','age', 'Pstatus', 'Medu', 'Mjob','failures','schoolsup','activities','nursery','internet',\n",
    "'famrel','freetime','goout','Dalc','Walc','health','absences','G1','G2','G3','GradeClass']].copy()\n",
    "\n"
   ]
  },
  {
   "cell_type": "code",
   "execution_count": 5,
   "id": "e73e17e8",
   "metadata": {},
   "outputs": [
    {
     "data": {
      "text/html": [
       "<div>\n",
       "<style scoped>\n",
       "    .dataframe tbody tr th:only-of-type {\n",
       "        vertical-align: middle;\n",
       "    }\n",
       "\n",
       "    .dataframe tbody tr th {\n",
       "        vertical-align: top;\n",
       "    }\n",
       "\n",
       "    .dataframe thead th {\n",
       "        text-align: right;\n",
       "    }\n",
       "</style>\n",
       "<table border=\"1\" class=\"dataframe\">\n",
       "  <thead>\n",
       "    <tr style=\"text-align: right;\">\n",
       "      <th></th>\n",
       "      <th>sex</th>\n",
       "      <th>age</th>\n",
       "      <th>Pstatus</th>\n",
       "      <th>Medu</th>\n",
       "      <th>Mjob</th>\n",
       "      <th>failures</th>\n",
       "      <th>schoolsup</th>\n",
       "      <th>activities</th>\n",
       "      <th>nursery</th>\n",
       "      <th>internet</th>\n",
       "      <th>...</th>\n",
       "      <th>freetime</th>\n",
       "      <th>goout</th>\n",
       "      <th>Dalc</th>\n",
       "      <th>Walc</th>\n",
       "      <th>health</th>\n",
       "      <th>absences</th>\n",
       "      <th>G1</th>\n",
       "      <th>G2</th>\n",
       "      <th>G3</th>\n",
       "      <th>GradeClass</th>\n",
       "    </tr>\n",
       "  </thead>\n",
       "  <tbody>\n",
       "    <tr>\n",
       "      <th>0</th>\n",
       "      <td>F</td>\n",
       "      <td>18</td>\n",
       "      <td>A</td>\n",
       "      <td>4</td>\n",
       "      <td>at_home</td>\n",
       "      <td>0</td>\n",
       "      <td>yes</td>\n",
       "      <td>no</td>\n",
       "      <td>yes</td>\n",
       "      <td>no</td>\n",
       "      <td>...</td>\n",
       "      <td>3</td>\n",
       "      <td>4</td>\n",
       "      <td>1</td>\n",
       "      <td>1</td>\n",
       "      <td>3</td>\n",
       "      <td>6</td>\n",
       "      <td>5</td>\n",
       "      <td>6</td>\n",
       "      <td>6</td>\n",
       "      <td>E</td>\n",
       "    </tr>\n",
       "    <tr>\n",
       "      <th>1</th>\n",
       "      <td>F</td>\n",
       "      <td>17</td>\n",
       "      <td>T</td>\n",
       "      <td>1</td>\n",
       "      <td>at_home</td>\n",
       "      <td>0</td>\n",
       "      <td>no</td>\n",
       "      <td>no</td>\n",
       "      <td>no</td>\n",
       "      <td>yes</td>\n",
       "      <td>...</td>\n",
       "      <td>3</td>\n",
       "      <td>3</td>\n",
       "      <td>1</td>\n",
       "      <td>1</td>\n",
       "      <td>3</td>\n",
       "      <td>4</td>\n",
       "      <td>5</td>\n",
       "      <td>5</td>\n",
       "      <td>6</td>\n",
       "      <td>F</td>\n",
       "    </tr>\n",
       "    <tr>\n",
       "      <th>2</th>\n",
       "      <td>F</td>\n",
       "      <td>15</td>\n",
       "      <td>T</td>\n",
       "      <td>1</td>\n",
       "      <td>at_home</td>\n",
       "      <td>3</td>\n",
       "      <td>yes</td>\n",
       "      <td>no</td>\n",
       "      <td>yes</td>\n",
       "      <td>yes</td>\n",
       "      <td>...</td>\n",
       "      <td>3</td>\n",
       "      <td>2</td>\n",
       "      <td>2</td>\n",
       "      <td>3</td>\n",
       "      <td>3</td>\n",
       "      <td>10</td>\n",
       "      <td>7</td>\n",
       "      <td>8</td>\n",
       "      <td>10</td>\n",
       "      <td>E</td>\n",
       "    </tr>\n",
       "    <tr>\n",
       "      <th>3</th>\n",
       "      <td>F</td>\n",
       "      <td>15</td>\n",
       "      <td>T</td>\n",
       "      <td>4</td>\n",
       "      <td>health</td>\n",
       "      <td>0</td>\n",
       "      <td>no</td>\n",
       "      <td>yes</td>\n",
       "      <td>yes</td>\n",
       "      <td>yes</td>\n",
       "      <td>...</td>\n",
       "      <td>2</td>\n",
       "      <td>2</td>\n",
       "      <td>1</td>\n",
       "      <td>1</td>\n",
       "      <td>5</td>\n",
       "      <td>2</td>\n",
       "      <td>15</td>\n",
       "      <td>14</td>\n",
       "      <td>15</td>\n",
       "      <td>B</td>\n",
       "    </tr>\n",
       "    <tr>\n",
       "      <th>4</th>\n",
       "      <td>F</td>\n",
       "      <td>16</td>\n",
       "      <td>T</td>\n",
       "      <td>3</td>\n",
       "      <td>other</td>\n",
       "      <td>0</td>\n",
       "      <td>no</td>\n",
       "      <td>no</td>\n",
       "      <td>yes</td>\n",
       "      <td>no</td>\n",
       "      <td>...</td>\n",
       "      <td>3</td>\n",
       "      <td>2</td>\n",
       "      <td>1</td>\n",
       "      <td>2</td>\n",
       "      <td>5</td>\n",
       "      <td>4</td>\n",
       "      <td>6</td>\n",
       "      <td>10</td>\n",
       "      <td>10</td>\n",
       "      <td>E</td>\n",
       "    </tr>\n",
       "  </tbody>\n",
       "</table>\n",
       "<p>5 rows × 21 columns</p>\n",
       "</div>"
      ],
      "text/plain": [
       "  sex  age Pstatus  Medu     Mjob  failures schoolsup activities nursery  \\\n",
       "0   F   18       A     4  at_home         0       yes         no     yes   \n",
       "1   F   17       T     1  at_home         0        no         no      no   \n",
       "2   F   15       T     1  at_home         3       yes         no     yes   \n",
       "3   F   15       T     4   health         0        no        yes     yes   \n",
       "4   F   16       T     3    other         0        no         no     yes   \n",
       "\n",
       "  internet  ...  freetime  goout  Dalc  Walc  health  absences  G1  G2  G3  \\\n",
       "0       no  ...         3      4     1     1       3         6   5   6   6   \n",
       "1      yes  ...         3      3     1     1       3         4   5   5   6   \n",
       "2      yes  ...         3      2     2     3       3        10   7   8  10   \n",
       "3      yes  ...         2      2     1     1       5         2  15  14  15   \n",
       "4       no  ...         3      2     1     2       5         4   6  10  10   \n",
       "\n",
       "   GradeClass  \n",
       "0           E  \n",
       "1           F  \n",
       "2           E  \n",
       "3           B  \n",
       "4           E  \n",
       "\n",
       "[5 rows x 21 columns]"
      ]
     },
     "execution_count": 5,
     "metadata": {},
     "output_type": "execute_result"
    }
   ],
   "source": [
    "df_selected.head()"
   ]
  },
  {
   "cell_type": "code",
   "execution_count": 6,
   "id": "cfac0e60",
   "metadata": {},
   "outputs": [],
   "source": [
    "from sklearn import model_selection, preprocessing, feature_selection, ensemble, metrics, decomposition\n",
    "from sklearn import linear_model \n",
    "import seaborn as sns"
   ]
  },
  {
   "cell_type": "code",
   "execution_count": 7,
   "id": "a2cddd8f",
   "metadata": {},
   "outputs": [
    {
     "data": {
      "text/plain": [
       "<AxesSubplot: xlabel='GradeClass', ylabel='count'>"
      ]
     },
     "execution_count": 7,
     "metadata": {},
     "output_type": "execute_result"
    },
    {
     "data": {
      "image/png": "[encoded data removed]",
      "text/plain": [
       "<Figure size 640x480 with 1 Axes>"
      ]
     },
     "metadata": {},
     "output_type": "display_data"
    }
   ],
   "source": [
    "sns.set_style('whitegrid')\n",
    "sns.countplot(x='GradeClass',data=df_selected,palette='RdBu_r')"
   ]
  },
  {
   "cell_type": "code",
   "execution_count": 8,
   "id": "27d77721",
   "metadata": {},
   "outputs": [],
   "source": [
    "from sklearn.preprocessing import LabelEncoder\n",
    "from sklearn import preprocessing\n",
    "# Creating labelEncoder\n",
    "le = preprocessing.LabelEncoder()\n",
    "# Converting string labels into numbers.\n",
    "df_selected['sex']=le.fit_transform(df_selected['sex'])\n",
    "df_selected['age']=le.fit_transform(df_selected['age'])\n",
    "df_selected['Pstatus']=le.fit_transform(df_selected['Pstatus'])\n",
    "df_selected['Medu']=le.fit_transform(df_selected['Medu'])\n",
    "df_selected['schoolsup']=le.fit_transform(df_selected['schoolsup'])\n",
    "df_selected['Mjob']=le.fit_transform(df_selected['Mjob'])\n",
    "df_selected['activities']=le.fit_transform(df_selected['activities'])\n",
    "df_selected['nursery']=le.fit_transform(df_selected['nursery'])\n",
    "df_selected['internet']=le.fit_transform(df_selected['internet'])\n",
    "df_selected['GradeClass']=le.fit_transform(df_selected['GradeClass'])"
   ]
  },
  {
   "cell_type": "code",
   "execution_count": 9,
   "id": "ecf82a47",
   "metadata": {},
   "outputs": [
    {
     "data": {
      "text/html": [
       "<div>\n",
       "<style scoped>\n",
       "    .dataframe tbody tr th:only-of-type {\n",
       "        vertical-align: middle;\n",
       "    }\n",
       "\n",
       "    .dataframe tbody tr th {\n",
       "        vertical-align: top;\n",
       "    }\n",
       "\n",
       "    .dataframe thead th {\n",
       "        text-align: right;\n",
       "    }\n",
       "</style>\n",
       "<table border=\"1\" class=\"dataframe\">\n",
       "  <thead>\n",
       "    <tr style=\"text-align: right;\">\n",
       "      <th></th>\n",
       "      <th>sex</th>\n",
       "      <th>age</th>\n",
       "      <th>Pstatus</th>\n",
       "      <th>Medu</th>\n",
       "      <th>Mjob</th>\n",
       "      <th>failures</th>\n",
       "      <th>schoolsup</th>\n",
       "      <th>activities</th>\n",
       "      <th>nursery</th>\n",
       "      <th>internet</th>\n",
       "      <th>...</th>\n",
       "      <th>freetime</th>\n",
       "      <th>goout</th>\n",
       "      <th>Dalc</th>\n",
       "      <th>Walc</th>\n",
       "      <th>health</th>\n",
       "      <th>absences</th>\n",
       "      <th>G1</th>\n",
       "      <th>G2</th>\n",
       "      <th>G3</th>\n",
       "      <th>GradeClass</th>\n",
       "    </tr>\n",
       "  </thead>\n",
       "  <tbody>\n",
       "    <tr>\n",
       "      <th>0</th>\n",
       "      <td>0</td>\n",
       "      <td>3</td>\n",
       "      <td>0</td>\n",
       "      <td>4</td>\n",
       "      <td>0</td>\n",
       "      <td>0</td>\n",
       "      <td>1</td>\n",
       "      <td>0</td>\n",
       "      <td>1</td>\n",
       "      <td>0</td>\n",
       "      <td>...</td>\n",
       "      <td>3</td>\n",
       "      <td>4</td>\n",
       "      <td>1</td>\n",
       "      <td>1</td>\n",
       "      <td>3</td>\n",
       "      <td>6</td>\n",
       "      <td>5</td>\n",
       "      <td>6</td>\n",
       "      <td>6</td>\n",
       "      <td>4</td>\n",
       "    </tr>\n",
       "    <tr>\n",
       "      <th>1</th>\n",
       "      <td>0</td>\n",
       "      <td>2</td>\n",
       "      <td>1</td>\n",
       "      <td>1</td>\n",
       "      <td>0</td>\n",
       "      <td>0</td>\n",
       "      <td>0</td>\n",
       "      <td>0</td>\n",
       "      <td>0</td>\n",
       "      <td>1</td>\n",
       "      <td>...</td>\n",
       "      <td>3</td>\n",
       "      <td>3</td>\n",
       "      <td>1</td>\n",
       "      <td>1</td>\n",
       "      <td>3</td>\n",
       "      <td>4</td>\n",
       "      <td>5</td>\n",
       "      <td>5</td>\n",
       "      <td>6</td>\n",
       "      <td>5</td>\n",
       "    </tr>\n",
       "    <tr>\n",
       "      <th>2</th>\n",
       "      <td>0</td>\n",
       "      <td>0</td>\n",
       "      <td>1</td>\n",
       "      <td>1</td>\n",
       "      <td>0</td>\n",
       "      <td>3</td>\n",
       "      <td>1</td>\n",
       "      <td>0</td>\n",
       "      <td>1</td>\n",
       "      <td>1</td>\n",
       "      <td>...</td>\n",
       "      <td>3</td>\n",
       "      <td>2</td>\n",
       "      <td>2</td>\n",
       "      <td>3</td>\n",
       "      <td>3</td>\n",
       "      <td>10</td>\n",
       "      <td>7</td>\n",
       "      <td>8</td>\n",
       "      <td>10</td>\n",
       "      <td>4</td>\n",
       "    </tr>\n",
       "    <tr>\n",
       "      <th>3</th>\n",
       "      <td>0</td>\n",
       "      <td>0</td>\n",
       "      <td>1</td>\n",
       "      <td>4</td>\n",
       "      <td>1</td>\n",
       "      <td>0</td>\n",
       "      <td>0</td>\n",
       "      <td>1</td>\n",
       "      <td>1</td>\n",
       "      <td>1</td>\n",
       "      <td>...</td>\n",
       "      <td>2</td>\n",
       "      <td>2</td>\n",
       "      <td>1</td>\n",
       "      <td>1</td>\n",
       "      <td>5</td>\n",
       "      <td>2</td>\n",
       "      <td>15</td>\n",
       "      <td>14</td>\n",
       "      <td>15</td>\n",
       "      <td>1</td>\n",
       "    </tr>\n",
       "    <tr>\n",
       "      <th>4</th>\n",
       "      <td>0</td>\n",
       "      <td>1</td>\n",
       "      <td>1</td>\n",
       "      <td>3</td>\n",
       "      <td>2</td>\n",
       "      <td>0</td>\n",
       "      <td>0</td>\n",
       "      <td>0</td>\n",
       "      <td>1</td>\n",
       "      <td>0</td>\n",
       "      <td>...</td>\n",
       "      <td>3</td>\n",
       "      <td>2</td>\n",
       "      <td>1</td>\n",
       "      <td>2</td>\n",
       "      <td>5</td>\n",
       "      <td>4</td>\n",
       "      <td>6</td>\n",
       "      <td>10</td>\n",
       "      <td>10</td>\n",
       "      <td>4</td>\n",
       "    </tr>\n",
       "  </tbody>\n",
       "</table>\n",
       "<p>5 rows × 21 columns</p>\n",
       "</div>"
      ],
      "text/plain": [
       "   sex  age  Pstatus  Medu  Mjob  failures  schoolsup  activities  nursery  \\\n",
       "0    0    3        0     4     0         0          1           0        1   \n",
       "1    0    2        1     1     0         0          0           0        0   \n",
       "2    0    0        1     1     0         3          1           0        1   \n",
       "3    0    0        1     4     1         0          0           1        1   \n",
       "4    0    1        1     3     2         0          0           0        1   \n",
       "\n",
       "   internet  ...  freetime  goout  Dalc  Walc  health  absences  G1  G2  G3  \\\n",
       "0         0  ...         3      4     1     1       3         6   5   6   6   \n",
       "1         1  ...         3      3     1     1       3         4   5   5   6   \n",
       "2         1  ...         3      2     2     3       3        10   7   8  10   \n",
       "3         1  ...         2      2     1     1       5         2  15  14  15   \n",
       "4         0  ...         3      2     1     2       5         4   6  10  10   \n",
       "\n",
       "   GradeClass  \n",
       "0           4  \n",
       "1           5  \n",
       "2           4  \n",
       "3           1  \n",
       "4           4  \n",
       "\n",
       "[5 rows x 21 columns]"
      ]
     },
     "execution_count": 9,
     "metadata": {},
     "output_type": "execute_result"
    }
   ],
   "source": [
    "df_selected.head()"
   ]
  },
  {
   "cell_type": "code",
   "execution_count": 10,
   "id": "8e47bf13",
   "metadata": {
    "scrolled": true
   },
   "outputs": [
    {
     "data": {
      "text/plain": [
       "<AxesSubplot: xlabel='selection', ylabel='features'>"
      ]
     },
     "execution_count": 10,
     "metadata": {},
     "output_type": "execute_result"
    },
    {
     "data": {
      "image/png": "[encoded data removed]",
      "text/plain": [
       "<Figure size 640x480 with 1 Axes>"
      ]
     },
     "metadata": {},
     "output_type": "display_data"
    }
   ],
   "source": [
    "X = df_selected.drop(\"GradeClass\", axis=1).values\n",
    "y = df_selected[\"GradeClass\"].values\n",
    "feature_names = df_selected.drop(\"GradeClass\", axis=1).columns\n",
    "## p-value\n",
    "selector = feature_selection.SelectKBest(score_func= feature_selection.f_regression, k=9).fit(X,y)\n",
    "pvalue_selected_features = feature_names[selector.get_support()]\n",
    "## regularization\n",
    "selector = feature_selection.SelectFromModel(estimator= \n",
    "              linear_model.Ridge(alpha=1.0, fit_intercept=True), \n",
    "                                 max_features=9).fit(X,y)\n",
    "regularization_selected_features = feature_names[selector.get_support()]\n",
    "## plot\n",
    "dtf_features = pd.DataFrame({\"features\":feature_names})\n",
    "dtf_features[\"p_value\"] = dtf_features[\"features\"].apply(lambda x: \"p_value\" if x in pvalue_selected_features else \"\")\n",
    "dtf_features[\"num1\"] = dtf_features[\"features\"].apply(lambda x: 1 if x in pvalue_selected_features else 0)\n",
    "dtf_features[\"regularization\"] = dtf_features[\"features\"].apply(\n",
    "    lambda x: \"regularization\" if x in regularization_selected_features else \"\")\n",
    "dtf_features[\"num2\"] = dtf_features[\"features\"].apply(\n",
    "    lambda x: 1 if x in regularization_selected_features else 0)\n",
    "dtf_features[\"method\"] = dtf_features[[\"p_value\",\"regularization\"]].apply(lambda x: (x[0]+\" \"+x[1]).strip(), axis=1)\n",
    "dtf_features[\"selection\"] = dtf_features[\"num1\"] + dtf_features[\"num2\"]\n",
    "dtf_features[\"method\"] = dtf_features[\"method\"].apply(lambda x: \"both\" if len(x.split()) == 2 else x)\n",
    "sns.barplot(y=\"features\", x=\"selection\", hue=\"method\"\n",
    "            , data=dtf_features.sort_values(\"selection\", ascending=False), dodge=False)"
   ]
  },
  {
   "cell_type": "markdown",
   "id": "68346b1f",
   "metadata": {},
   "source": [
    "'sex','age', 'Pstatus', 'Medu', 'Mjob','failures','schoolsup','activities','nursery','internet',\n",
    "'famrel','freetime','goout','Dalc','Walc','health','absences','G1','G2','G3','GradeClass'"
   ]
  },
  {
   "cell_type": "code",
   "execution_count": 11,
   "id": "76c93047",
   "metadata": {},
   "outputs": [
    {
     "data": {
      "text/plain": [
       "(395, 21)"
      ]
     },
     "execution_count": 11,
     "metadata": {},
     "output_type": "execute_result"
    }
   ],
   "source": [
    "norm_data_random = df_selected.sample(frac=1 )\n",
    "\n",
    "norm_data_random.shape"
   ]
  },
  {
   "cell_type": "code",
   "execution_count": 12,
   "id": "2d1706e1",
   "metadata": {},
   "outputs": [],
   "source": [
    "norm_data_random = df_selected.sample(frac=1 )\n",
    "# Spliting data\n",
    "X=norm_data_random[['G1','G2','G3','nursery', 'Walc', 'goout','schoolsup','age'\n",
    "                    ,'famrel','failures', 'Medu','activities','Pstatus']]\n",
    "y=norm_data_random['GradeClass']\n",
    "\n",
    "# Import train_test_split function\n",
    "from sklearn.model_selection import train_test_split\n",
    "\n",
    "# Split dataset into training set and test set\n",
    "X_train, X_test, y_train, y_test= train_test_split(X, y, test_size=0.2, random_state=0)  # 80% training and 20% test"
   ]
  },
  {
   "cell_type": "code",
   "execution_count": null,
   "id": "83c7d537",
   "metadata": {},
   "outputs": [],
   "source": []
  },
  {
   "cell_type": "code",
   "execution_count": 13,
   "id": "0c06d087",
   "metadata": {},
   "outputs": [
    {
     "data": {
      "text/plain": [
       "(array([11.,  0., 11., 31., 68., 66., 57., 46., 17.,  9.]),\n",
       " array([-2.82234132, -2.3174147 , -1.81248808, -1.30756147, -0.80263485,\n",
       "        -0.29770823,  0.20721839,  0.712145  ,  1.21707162,  1.72199824,\n",
       "         2.22692485]),\n",
       " <BarContainer object of 10 artists>)"
      ]
     },
     "execution_count": 13,
     "metadata": {},
     "output_type": "execute_result"
    },
    {
     "data": {
      "image/png": "[encoded data removed]",
      "text/plain": [
       "<Figure size 1200x400 with 1 Axes>"
      ]
     },
     "metadata": {},
     "output_type": "display_data"
    }
   ],
   "source": [
    "import pandas as pd\n",
    "import matplotlib.pyplot as plt\n",
    "# Import StandardScaler\n",
    "from sklearn.preprocessing import StandardScaler\n",
    "fig, ax = plt.subplots(figsize=(12, 4))\n",
    "scaler = StandardScaler()\n",
    "x_std = scaler.fit_transform(X_train)\n",
    "ax.hist(x_std[:,0])\n",
    "ax.hist(x_std[:,1])"
   ]
  },
  {
   "cell_type": "code",
   "execution_count": 14,
   "id": "2957f93e",
   "metadata": {},
   "outputs": [],
   "source": [
    "from sklearn.preprocessing import StandardScaler\n",
    "sc = StandardScaler()\n",
    "X_train = sc.fit_transform(X_train)\n",
    "X_test = sc.transform(X_test)"
   ]
  },
  {
   "cell_type": "code",
   "execution_count": null,
   "id": "5939573c",
   "metadata": {},
   "outputs": [],
   "source": []
  },
  {
   "cell_type": "code",
   "execution_count": 15,
   "id": "c5d396df",
   "metadata": {},
   "outputs": [],
   "source": [
    "from sklearn  import ensemble\n",
    "from sklearn.metrics import mean_squared_error,mean_absolute_error,mean_absolute_error, r2_score\n",
    "def Set_score(algoname,yPredicted):\n",
    "    return algoname, round(accuracy_score(y_test, yPredicted),3) , round(mean_absolute_error(y_test, yPredicted),3), round(mean_squared_error(y_test, yPredicted),3), round(np.sqrt(mean_squared_error(y_test, yPredicted)),3)\n",
    "\n",
    "score=[]"
   ]
  },
  {
   "cell_type": "code",
   "execution_count": null,
   "id": "efcc808f",
   "metadata": {},
   "outputs": [],
   "source": []
  },
  {
   "cell_type": "code",
   "execution_count": 16,
   "id": "9d87a441",
   "metadata": {},
   "outputs": [
    {
     "name": "stdout",
     "output_type": "stream",
     "text": [
      "MLPClassifier Accuracy Score ->  91.13924050632912\n"
     ]
    }
   ],
   "source": [
    "# Import MLPClassifer \n",
    "from sklearn.neural_network import MLPClassifier\n",
    "# Create model object\n",
    "#hidden_layer_sizes=(6,5), random_state=5, verbose=True, learning_rate_init=0.01\n",
    "clf = MLPClassifier()\n",
    "# Fit data onto the model\n",
    "clf.fit(X_train,y_train)\n",
    "# Make prediction on test dataset\n",
    "ypred=clf.predict(X_test)\n",
    "# Import accuracy score \n",
    "from sklearn.metrics import accuracy_score\n",
    "# Calcuate accuracy\n",
    "accuracy_score(y_test,ypred)\n",
    "print(\"MLPClassifier Accuracy Score -> \",accuracy_score(y_test,ypred)*100)\n",
    "score.append(Set_score(\"MLPClassifier\",ypred))"
   ]
  },
  {
   "cell_type": "code",
   "execution_count": 17,
   "id": "f37c94b2",
   "metadata": {},
   "outputs": [
    {
     "name": "stdout",
     "output_type": "stream",
     "text": [
      "Random Forest Accuracy Score ->  94.9367088607595\n"
     ]
    }
   ],
   "source": [
    "# fit the training dataset on the Random Forest classifier\n",
    "from sklearn.ensemble import RandomForestClassifier\n",
    "classifier_rf = RandomForestClassifier(n_estimators = 10, criterion = 'entropy'\n",
    "                                       , random_state = 0)\n",
    "classifier_rf.fit(X_train,y_train)\n",
    "y_pred_RF = classifier_rf.predict(X_test)\n",
    "print(\"Random Forest Accuracy Score -> \",accuracy_score(y_test,y_pred_RF)*100)\n",
    "score.append(Set_score(\"Random Forest\",y_pred_RF))"
   ]
  },
  {
   "cell_type": "code",
   "execution_count": 18,
   "id": "e674002f",
   "metadata": {},
   "outputs": [
    {
     "data": {
      "text/plain": [
       "{'whiskers': [<matplotlib.lines.Line2D at 0x2b44cb320d0>,\n",
       "  <matplotlib.lines.Line2D at 0x2b44cb32370>],\n",
       " 'caps': [<matplotlib.lines.Line2D at 0x2b44cb32610>,\n",
       "  <matplotlib.lines.Line2D at 0x2b44cb328b0>],\n",
       " 'boxes': [<matplotlib.lines.Line2D at 0x2b44cb26df0>],\n",
       " 'medians': [<matplotlib.lines.Line2D at 0x2b44cb32b50>],\n",
       " 'fliers': [<matplotlib.lines.Line2D at 0x2b44cb32df0>],\n",
       " 'means': []}"
      ]
     },
     "execution_count": 18,
     "metadata": {},
     "output_type": "execute_result"
    },
    {
     "data": {
      "image/png": "[encoded data removed]",
      "text/plain": [
       "<Figure size 640x480 with 1 Axes>"
      ]
     },
     "metadata": {},
     "output_type": "display_data"
    }
   ],
   "source": [
    "plt.boxplot( y_test,boxprops=dict(color='blue') )\n",
    "plt.boxplot( y_pred_RF, boxprops=dict(color='red'))"
   ]
  },
  {
   "cell_type": "code",
   "execution_count": 19,
   "id": "8ada686d",
   "metadata": {},
   "outputs": [
    {
     "data": {
      "image/png": "[encoded data removed]",
      "text/plain": [
       "<Figure size 640x480 with 1 Axes>"
      ]
     },
     "metadata": {},
     "output_type": "display_data"
    }
   ],
   "source": [
    "def plotGraph(y_test,y_pred,ClassifierName):\n",
    "\n",
    "    plt.scatter(range(len(y_test)), y_test, color='blue')\n",
    "    plt.scatter(range(len(y_test)), y_pred, color='red')\n",
    "    plt.title(ClassifierName)\n",
    "    plt.show()\n",
    "    return\n",
    "\n",
    "\n",
    "plotGraph(y_test, y_pred_RF, \"Actual and predicted data for Random Forest\")"
   ]
  },
  {
   "cell_type": "code",
   "execution_count": 20,
   "id": "8e0cb232",
   "metadata": {},
   "outputs": [
    {
     "data": {
      "text/plain": [
       "<AxesSubplot: xlabel='GradeClass', ylabel='Density'>"
      ]
     },
     "execution_count": 20,
     "metadata": {},
     "output_type": "execute_result"
    },
    {
     "data": {
      "image/png": "[encoded data removed]",
      "text/plain": [
       "<Figure size 640x480 with 1 Axes>"
      ]
     },
     "metadata": {},
     "output_type": "display_data"
    }
   ],
   "source": [
    "sns.distplot(y_test, hist=True, kde=True, \n",
    "             bins=int(100/5), color = 'darkblue', \n",
    "             hist_kws={'edgecolor':'black'},\n",
    "             kde_kws={'linewidth': 4})\n",
    "sns.distplot(y_pred_RF, hist=True, kde=True, \n",
    "             bins=int(100/5), color = 'red', \n",
    "             hist_kws={'edgecolor':'grey'},\n",
    "             kde_kws={'linewidth': 4})"
   ]
  },
  {
   "cell_type": "code",
   "execution_count": 21,
   "id": "3396dcc9",
   "metadata": {},
   "outputs": [
    {
     "name": "stdout",
     "output_type": "stream",
     "text": [
      "[[ 0  1  0  0  0  0]\n",
      " [ 0 13  0  0  0  0]\n",
      " [ 0  1 24  1  0  0]\n",
      " [ 0  0  0  2  3  0]\n",
      " [ 0  0  0  0 27  0]\n",
      " [ 0  0  0  0  1  6]]\n"
     ]
    },
    {
     "data": {
      "text/plain": [
       "0.9113924050632911"
      ]
     },
     "execution_count": 21,
     "metadata": {},
     "output_type": "execute_result"
    }
   ],
   "source": [
    "from sklearn.svm import SVC\n",
    "classifier_svc = SVC(kernel = 'rbf', random_state = 0)\n",
    "classifier_svc.fit(X_train, y_train)\n",
    "from sklearn.metrics import confusion_matrix, accuracy_score\n",
    "y_pred_SVC = classifier_svc.predict(X_test)\n",
    "cm = confusion_matrix(y_test, y_pred_SVC)\n",
    "score.append(Set_score('SVC-rbf',y_pred_SVC))\n",
    "print(cm)\n",
    "accuracy_score(y_test, y_pred_SVC)"
   ]
  },
  {
   "cell_type": "code",
   "execution_count": 22,
   "id": "4b1cc99a",
   "metadata": {},
   "outputs": [
    {
     "name": "stdout",
     "output_type": "stream",
     "text": [
      "[[ 0  1  0  0  0  0]\n",
      " [ 1 12  0  0  0  0]\n",
      " [ 0  1 23  2  0  0]\n",
      " [ 0  0  0  5  0  0]\n",
      " [ 0  0  0  1 25  1]\n",
      " [ 0  0  0  0  1  6]]\n"
     ]
    },
    {
     "data": {
      "text/plain": [
       "0.8987341772151899"
      ]
     },
     "execution_count": 22,
     "metadata": {},
     "output_type": "execute_result"
    }
   ],
   "source": [
    "from sklearn.svm import SVC\n",
    "classifier_svc_l = SVC(kernel = 'linear', random_state = 0)\n",
    "classifier_svc_l.fit(X_train, y_train)\n",
    "from sklearn.metrics import confusion_matrix, accuracy_score\n",
    "y_pred_SVC_1 = classifier_svc_l.predict(X_test)\n",
    "cm = confusion_matrix(y_test, y_pred_SVC_1)\n",
    "score.append(Set_score('SVC-Linear',y_pred_SVC_1))\n",
    "print(cm)\n",
    "accuracy_score(y_test, y_pred_SVC_1)"
   ]
  },
  {
   "cell_type": "code",
   "execution_count": 23,
   "id": "fcd6cff6",
   "metadata": {},
   "outputs": [
    {
     "name": "stdout",
     "output_type": "stream",
     "text": [
      "[[ 0  1  0  0  0  0]\n",
      " [ 0 13  0  0  0  0]\n",
      " [ 0  2 22  2  0  0]\n",
      " [ 0  0  0  5  0  0]\n",
      " [ 0  0  0  3 23  1]\n",
      " [ 0  0  0  0  0  7]]\n"
     ]
    },
    {
     "data": {
      "text/plain": [
       "0.8860759493670886"
      ]
     },
     "execution_count": 23,
     "metadata": {},
     "output_type": "execute_result"
    }
   ],
   "source": [
    "from sklearn.naive_bayes import GaussianNB\n",
    "classifier = GaussianNB()\n",
    "classifier.fit(X_train, y_train)\n",
    "y_pred_GaussianNB = classifier.predict(X_test)\n",
    "from sklearn.metrics import confusion_matrix, accuracy_score\n",
    "cm = confusion_matrix(y_test, y_pred_GaussianNB)\n",
    "score.append(Set_score('GaussianNB',y_pred_GaussianNB))\n",
    "print(cm)\n",
    "accuracy_score(y_test, y_pred_GaussianNB)"
   ]
  },
  {
   "cell_type": "code",
   "execution_count": 24,
   "id": "bf4f5e6b",
   "metadata": {},
   "outputs": [
    {
     "name": "stdout",
     "output_type": "stream",
     "text": [
      "[[ 0  1  0  0  0  0]\n",
      " [ 0 13  0  0  0  0]\n",
      " [ 0  1 22  3  0  0]\n",
      " [ 0  0  0  5  0  0]\n",
      " [ 0  0  0  0 27  0]\n",
      " [ 0  0  0  0  0  7]]\n"
     ]
    },
    {
     "data": {
      "text/plain": [
       "0.9367088607594937"
      ]
     },
     "execution_count": 24,
     "metadata": {},
     "output_type": "execute_result"
    }
   ],
   "source": [
    "from sklearn.tree import DecisionTreeClassifier\n",
    "classifier_tr = DecisionTreeClassifier(criterion = 'entropy', random_state = 0)\n",
    "classifier_tr.fit(X_train, y_train)\n",
    "y_pred_dt = classifier_tr.predict(X_test)\n",
    "from sklearn.metrics import confusion_matrix, accuracy_score\n",
    "cm = confusion_matrix(y_test, y_pred_dt)\n",
    "score.append(Set_score('DecisionTreeClassifier',y_pred_dt))\n",
    "print(cm)\n",
    "accuracy_score(y_test, y_pred_dt)"
   ]
  },
  {
   "cell_type": "code",
   "execution_count": 25,
   "id": "6989c7d0",
   "metadata": {},
   "outputs": [
    {
     "name": "stdout",
     "output_type": "stream",
     "text": [
      "[[ 0  1  0  0  0  0]\n",
      " [ 0 12  1  0  0  0]\n",
      " [ 0  1 20  2  3  0]\n",
      " [ 0  0  3  1  1  0]\n",
      " [ 0  0  0  0 27  0]\n",
      " [ 0  0  0  0  6  1]]\n"
     ]
    },
    {
     "data": {
      "text/plain": [
       "0.7721518987341772"
      ]
     },
     "execution_count": 25,
     "metadata": {},
     "output_type": "execute_result"
    }
   ],
   "source": [
    "from sklearn.neighbors import KNeighborsClassifier\n",
    "classifier_KNN = KNeighborsClassifier(n_neighbors = 5, metric = 'minkowski', p = 2)\n",
    "classifier_KNN.fit(X_train, y_train)\n",
    "from sklearn.metrics import confusion_matrix, accuracy_score\n",
    "y_pred_KNN = classifier_KNN.predict(X_test)\n",
    "cm = confusion_matrix(y_test, y_pred_KNN)\n",
    "score.append(Set_score('KNeighborsClassifier',y_pred_KNN))\n",
    "print(cm)\n",
    "accuracy_score(y_test, y_pred_KNN)"
   ]
  },
  {
   "cell_type": "code",
   "execution_count": 26,
   "id": "e5142852",
   "metadata": {},
   "outputs": [
    {
     "data": {
      "text/plain": [
       "0.9493670886075949"
      ]
     },
     "execution_count": 26,
     "metadata": {},
     "output_type": "execute_result"
    }
   ],
   "source": [
    "from sklearn.linear_model import LogisticRegression\n",
    "classifier_log = LogisticRegression(random_state = 0)\n",
    "classifier_log.fit(X_train, y_train)\n",
    "from sklearn.metrics import confusion_matrix, accuracy_score\n",
    "y_pred = classifier_log.predict(X_test)\n",
    "score.append(Set_score('LogisticRegression',y_pred))\n",
    "accuracy_score(y_test, y_pred)"
   ]
  },
  {
   "cell_type": "code",
   "execution_count": 27,
   "id": "3521afce",
   "metadata": {},
   "outputs": [
    {
     "data": {
      "text/html": [
       "<div>\n",
       "<style scoped>\n",
       "    .dataframe tbody tr th:only-of-type {\n",
       "        vertical-align: middle;\n",
       "    }\n",
       "\n",
       "    .dataframe tbody tr th {\n",
       "        vertical-align: top;\n",
       "    }\n",
       "\n",
       "    .dataframe thead th {\n",
       "        text-align: right;\n",
       "    }\n",
       "</style>\n",
       "<table border=\"1\" class=\"dataframe\">\n",
       "  <thead>\n",
       "    <tr style=\"text-align: right;\">\n",
       "      <th></th>\n",
       "      <th>Model</th>\n",
       "      <th>accuracy_score</th>\n",
       "      <th>MAE</th>\n",
       "      <th>MSE</th>\n",
       "      <th>RMSE</th>\n",
       "    </tr>\n",
       "  </thead>\n",
       "  <tbody>\n",
       "    <tr>\n",
       "      <th>0</th>\n",
       "      <td>MLPClassifier</td>\n",
       "      <td>0.911</td>\n",
       "      <td>0.089</td>\n",
       "      <td>0.089</td>\n",
       "      <td>0.298</td>\n",
       "    </tr>\n",
       "    <tr>\n",
       "      <th>1</th>\n",
       "      <td>Random Forest</td>\n",
       "      <td>0.949</td>\n",
       "      <td>0.051</td>\n",
       "      <td>0.051</td>\n",
       "      <td>0.225</td>\n",
       "    </tr>\n",
       "    <tr>\n",
       "      <th>2</th>\n",
       "      <td>SVC-rbf</td>\n",
       "      <td>0.911</td>\n",
       "      <td>0.089</td>\n",
       "      <td>0.089</td>\n",
       "      <td>0.298</td>\n",
       "    </tr>\n",
       "    <tr>\n",
       "      <th>3</th>\n",
       "      <td>SVC-Linear</td>\n",
       "      <td>0.899</td>\n",
       "      <td>0.101</td>\n",
       "      <td>0.101</td>\n",
       "      <td>0.318</td>\n",
       "    </tr>\n",
       "    <tr>\n",
       "      <th>4</th>\n",
       "      <td>GaussianNB</td>\n",
       "      <td>0.886</td>\n",
       "      <td>0.114</td>\n",
       "      <td>0.114</td>\n",
       "      <td>0.338</td>\n",
       "    </tr>\n",
       "    <tr>\n",
       "      <th>5</th>\n",
       "      <td>DecisionTreeClassifier</td>\n",
       "      <td>0.937</td>\n",
       "      <td>0.063</td>\n",
       "      <td>0.063</td>\n",
       "      <td>0.252</td>\n",
       "    </tr>\n",
       "    <tr>\n",
       "      <th>6</th>\n",
       "      <td>KNeighborsClassifier</td>\n",
       "      <td>0.772</td>\n",
       "      <td>0.266</td>\n",
       "      <td>0.342</td>\n",
       "      <td>0.585</td>\n",
       "    </tr>\n",
       "    <tr>\n",
       "      <th>7</th>\n",
       "      <td>LogisticRegression</td>\n",
       "      <td>0.949</td>\n",
       "      <td>0.051</td>\n",
       "      <td>0.051</td>\n",
       "      <td>0.225</td>\n",
       "    </tr>\n",
       "  </tbody>\n",
       "</table>\n",
       "</div>"
      ],
      "text/plain": [
       "                    Model  accuracy_score    MAE    MSE   RMSE\n",
       "0           MLPClassifier           0.911  0.089  0.089  0.298\n",
       "1           Random Forest           0.949  0.051  0.051  0.225\n",
       "2                 SVC-rbf           0.911  0.089  0.089  0.298\n",
       "3              SVC-Linear           0.899  0.101  0.101  0.318\n",
       "4              GaussianNB           0.886  0.114  0.114  0.338\n",
       "5  DecisionTreeClassifier           0.937  0.063  0.063  0.252\n",
       "6    KNeighborsClassifier           0.772  0.266  0.342  0.585\n",
       "7      LogisticRegression           0.949  0.051  0.051  0.225"
      ]
     },
     "execution_count": 27,
     "metadata": {},
     "output_type": "execute_result"
    }
   ],
   "source": [
    "pd.DataFrame(score, columns=['Model', 'accuracy_score', 'MAE', 'MSE', 'RMSE'])"
   ]
  },
  {
   "cell_type": "code",
   "execution_count": 28,
   "id": "f55dcb8b",
   "metadata": {},
   "outputs": [
    {
     "data": {
      "text/plain": [
       "<AxesSubplot: xlabel='Model'>"
      ]
     },
     "execution_count": 28,
     "metadata": {},
     "output_type": "execute_result"
    },
    {
     "data": {
      "image/png": "[encoded data removed]",
      "text/plain": [
       "<Figure size 1800x1000 with 1 Axes>"
      ]
     },
     "metadata": {},
     "output_type": "display_data"
    }
   ],
   "source": [
    "pd.DataFrame(score, columns=['Model','accuracy_score', 'MAE', 'MSE', 'RMSE']).plot(x=\"Model\"\n",
    "                                                                                   , y=[\"accuracy_score\", \"MAE\"]\n",
    "                                                                                   , kind=\"bar\", figsize=(18,10))"
   ]
  }
 ],
 "metadata": {
  "kernelspec": {
   "display_name": "Python 3 (ipykernel)",
   "language": "python",
   "name": "python3"
  },
  "language_info": {
   "codemirror_mode": {
    "name": "ipython",
    "version": 3
   },
   "file_extension": ".py",
   "mimetype": "text/x-python",
   "name": "python",
   "nbconvert_exporter": "python",
   "pygments_lexer": "ipython3",
   "version": "3.9.13"
  }
 },
 "nbformat": 4,
 "nbformat_minor": 5
}
